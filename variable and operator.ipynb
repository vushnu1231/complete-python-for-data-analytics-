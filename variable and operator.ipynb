{
 "cells": [
  {
   "cell_type": "markdown",
   "id": "440f12db",
   "metadata": {},
   "source": [
    "# Variables\n",
    "\n",
    "1. Variables are containers that store data. Python has no command for declaring variable\n",
    "1. You simply assign a value to a variable to create it\n",
    "1. You use = to assign a value to a variable"
   ]
  },
  {
   "cell_type": "code",
   "execution_count": 2,
   "id": "781732c9",
   "metadata": {},
   "outputs": [],
   "source": [
    "age = 21"
   ]
  },
  {
   "cell_type": "code",
   "execution_count": 3,
   "id": "d027ec12",
   "metadata": {},
   "outputs": [],
   "source": [
    "name = \"Marry\""
   ]
  },
  {
   "cell_type": "code",
   "execution_count": 4,
   "id": "342a9ebe",
   "metadata": {},
   "outputs": [
    {
     "name": "stdout",
     "output_type": "stream",
     "text": [
      "21\n"
     ]
    }
   ],
   "source": [
    "print(age)"
   ]
  },
  {
   "cell_type": "code",
   "execution_count": 5,
   "id": "2eb75a84",
   "metadata": {},
   "outputs": [
    {
     "name": "stdout",
     "output_type": "stream",
     "text": [
      "Marry\n"
     ]
    }
   ],
   "source": [
    "print(name)"
   ]
  },
  {
   "cell_type": "code",
   "execution_count": null,
   "id": "f6676e84",
   "metadata": {},
   "outputs": [],
   "source": []
  },
  {
   "cell_type": "markdown",
   "id": "2daf9a49",
   "metadata": {},
   "source": [
    "### Print variables with texts"
   ]
  },
  {
   "cell_type": "code",
   "execution_count": 6,
   "id": "136b9bf7",
   "metadata": {},
   "outputs": [
    {
     "name": "stdout",
     "output_type": "stream",
     "text": [
      "Marry is 21 years old\n"
     ]
    }
   ],
   "source": [
    "print(name, \"is\", age, \"years old\")"
   ]
  },
  {
   "cell_type": "code",
   "execution_count": 7,
   "id": "6b4cfb8c",
   "metadata": {},
   "outputs": [
    {
     "name": "stdout",
     "output_type": "stream",
     "text": [
      "John is older than Marry He is 26\n"
     ]
    }
   ],
   "source": [
    "print(\"John is older than\", name, \"He is\", age + 5)"
   ]
  },
  {
   "cell_type": "code",
   "execution_count": null,
   "id": "f1bbf854",
   "metadata": {},
   "outputs": [],
   "source": []
  },
  {
   "cell_type": "markdown",
   "id": "915a2ccb",
   "metadata": {},
   "source": [
    "### Reassign variable"
   ]
  },
  {
   "cell_type": "code",
   "execution_count": 8,
   "id": "2b4dbb5f",
   "metadata": {},
   "outputs": [
    {
     "name": "stdout",
     "output_type": "stream",
     "text": [
      "Marry\n"
     ]
    }
   ],
   "source": [
    "friendname = name\n",
    "print(friendname)"
   ]
  },
  {
   "cell_type": "code",
   "execution_count": null,
   "id": "28410cf5",
   "metadata": {},
   "outputs": [],
   "source": []
  },
  {
   "cell_type": "markdown",
   "id": "005e046d",
   "metadata": {},
   "source": [
    "### Multiple variables assignment with same value"
   ]
  },
  {
   "cell_type": "code",
   "execution_count": 9,
   "id": "9a2aeb2b",
   "metadata": {},
   "outputs": [],
   "source": [
    "mary_age = john_age = anil_age = 22"
   ]
  },
  {
   "cell_type": "code",
   "execution_count": 10,
   "id": "23af3869",
   "metadata": {},
   "outputs": [
    {
     "name": "stdout",
     "output_type": "stream",
     "text": [
      "Mary's age:  22\n",
      "John's age:  22\n",
      "Anil's age:  22\n"
     ]
    }
   ],
   "source": [
    "print(\"Mary's age: \", mary_age)\n",
    "print(\"John's age: \", john_age)\n",
    "print(\"Anil's age: \", anil_age)"
   ]
  },
  {
   "cell_type": "code",
   "execution_count": null,
   "id": "aa063299",
   "metadata": {},
   "outputs": [],
   "source": []
  },
  {
   "cell_type": "markdown",
   "id": "316f5674",
   "metadata": {},
   "source": [
    "### Multiple variables assignment with different values"
   ]
  },
  {
   "cell_type": "code",
   "execution_count": 11,
   "id": "70c04430",
   "metadata": {},
   "outputs": [],
   "source": [
    "age, income, savings = 21, 4000, 200"
   ]
  },
  {
   "cell_type": "code",
   "execution_count": 12,
   "id": "a47d50ed",
   "metadata": {},
   "outputs": [
    {
     "name": "stdout",
     "output_type": "stream",
     "text": [
      "Age:  21\n",
      "Income:  4000\n",
      "Savings:  200\n"
     ]
    }
   ],
   "source": [
    "print(\"Age: \", age)\n",
    "print(\"Income: \", income)\n",
    "print(\"Savings: \", savings)"
   ]
  },
  {
   "cell_type": "code",
   "execution_count": null,
   "id": "43913dc0",
   "metadata": {},
   "outputs": [],
   "source": []
  },
  {
   "cell_type": "markdown",
   "id": "b9e04937",
   "metadata": {},
   "source": [
    "### Create integer & string variables"
   ]
  },
  {
   "cell_type": "code",
   "execution_count": 13,
   "id": "aebc4a9b",
   "metadata": {},
   "outputs": [],
   "source": [
    "age = 21\n",
    "name = \"Marry\""
   ]
  },
  {
   "cell_type": "code",
   "execution_count": 14,
   "id": "8dab1277",
   "metadata": {},
   "outputs": [
    {
     "name": "stdout",
     "output_type": "stream",
     "text": [
      "21\n",
      "Marry\n"
     ]
    }
   ],
   "source": [
    "print(age)\n",
    "print(name)"
   ]
  },
  {
   "cell_type": "code",
   "execution_count": null,
   "id": "af39fa79",
   "metadata": {},
   "outputs": [],
   "source": []
  },
  {
   "cell_type": "markdown",
   "id": "c8d106dc",
   "metadata": {},
   "source": [
    "### Create float & boolean variables"
   ]
  },
  {
   "cell_type": "code",
   "execution_count": 15,
   "id": "f2e70f78",
   "metadata": {},
   "outputs": [],
   "source": [
    "product_price = 3423.45\n",
    "success = True"
   ]
  },
  {
   "cell_type": "code",
   "execution_count": 16,
   "id": "f2bfdd91",
   "metadata": {},
   "outputs": [
    {
     "name": "stdout",
     "output_type": "stream",
     "text": [
      "3423.45\n",
      "True\n"
     ]
    }
   ],
   "source": [
    "print(product_price)\n",
    "print(success)"
   ]
  },
  {
   "cell_type": "code",
   "execution_count": null,
   "id": "219baaed",
   "metadata": {},
   "outputs": [],
   "source": []
  },
  {
   "cell_type": "markdown",
   "id": "28d6ef7d",
   "metadata": {},
   "source": [
    "### Checking data types with type() function"
   ]
  },
  {
   "cell_type": "code",
   "execution_count": 17,
   "id": "b790a253",
   "metadata": {},
   "outputs": [
    {
     "data": {
      "text/plain": [
       "int"
      ]
     },
     "execution_count": 17,
     "metadata": {},
     "output_type": "execute_result"
    }
   ],
   "source": [
    "type(age)"
   ]
  },
  {
   "cell_type": "code",
   "execution_count": 18,
   "id": "fba53f89",
   "metadata": {},
   "outputs": [
    {
     "data": {
      "text/plain": [
       "str"
      ]
     },
     "execution_count": 18,
     "metadata": {},
     "output_type": "execute_result"
    }
   ],
   "source": [
    "type(name)"
   ]
  },
  {
   "cell_type": "code",
   "execution_count": 19,
   "id": "1bc4b595",
   "metadata": {},
   "outputs": [
    {
     "data": {
      "text/plain": [
       "float"
      ]
     },
     "execution_count": 19,
     "metadata": {},
     "output_type": "execute_result"
    }
   ],
   "source": [
    "type(product_price)"
   ]
  },
  {
   "cell_type": "code",
   "execution_count": 20,
   "id": "2f4c89b4",
   "metadata": {},
   "outputs": [
    {
     "data": {
      "text/plain": [
       "bool"
      ]
     },
     "execution_count": 20,
     "metadata": {},
     "output_type": "execute_result"
    }
   ],
   "source": [
    "type(success)"
   ]
  },
  {
   "cell_type": "code",
   "execution_count": null,
   "id": "de344f9b",
   "metadata": {},
   "outputs": [],
   "source": []
  },
  {
   "cell_type": "markdown",
   "id": "df409bd5",
   "metadata": {},
   "source": [
    "# Data type conversion\n",
    "\n",
    "Python allows to convert one data type to another\n",
    "\n",
    "1. **Implicit Conversion:** Conversion done by Python interpreter with programmer’s intervention.\n",
    "1. **Explicit Conversion:** Conversion that is user-defined that forces an expression to be of specific data type"
   ]
  },
  {
   "cell_type": "markdown",
   "id": "01a7db9e",
   "metadata": {},
   "source": [
    "### Implicit conversion"
   ]
  },
  {
   "cell_type": "code",
   "execution_count": 21,
   "id": "814907db",
   "metadata": {},
   "outputs": [],
   "source": [
    "# Integer type data\n",
    "income = 200\n",
    "\n",
    "# Float type data\n",
    "additional_income = 50.75\n",
    "\n",
    "# Implicit conversion. Upon addition the resultant variable becomes float type\n",
    "total_income = income + additional_income"
   ]
  },
  {
   "cell_type": "code",
   "execution_count": 22,
   "id": "00227e66",
   "metadata": {},
   "outputs": [
    {
     "name": "stdout",
     "output_type": "stream",
     "text": [
      "250.75\n",
      "<class 'float'>\n"
     ]
    }
   ],
   "source": [
    "print(total_income)\n",
    "print(type(total_income))"
   ]
  },
  {
   "cell_type": "markdown",
   "id": "c45a4564",
   "metadata": {},
   "source": [
    "### Explicit conversion"
   ]
  },
  {
   "cell_type": "code",
   "execution_count": 23,
   "id": "f66e1442",
   "metadata": {},
   "outputs": [],
   "source": [
    "price = 100\n",
    "tax = \"18\""
   ]
  },
  {
   "cell_type": "code",
   "execution_count": 24,
   "id": "236fe650",
   "metadata": {},
   "outputs": [
    {
     "ename": "TypeError",
     "evalue": "unsupported operand type(s) for +: 'int' and 'str'",
     "output_type": "error",
     "traceback": [
      "\u001b[1;31m---------------------------------------------------------------------------\u001b[0m",
      "\u001b[1;31mTypeError\u001b[0m                                 Traceback (most recent call last)",
      "\u001b[1;32m~\\AppData\\Local\\Temp\\ipykernel_16184\\1187771056.py\u001b[0m in \u001b[0;36m<module>\u001b[1;34m\u001b[0m\n\u001b[1;32m----> 1\u001b[1;33m \u001b[0mtotal_cost\u001b[0m \u001b[1;33m=\u001b[0m \u001b[0mprice\u001b[0m \u001b[1;33m+\u001b[0m \u001b[0mtax\u001b[0m\u001b[1;33m\u001b[0m\u001b[1;33m\u001b[0m\u001b[0m\n\u001b[0m",
      "\u001b[1;31mTypeError\u001b[0m: unsupported operand type(s) for +: 'int' and 'str'"
     ]
    }
   ],
   "source": [
    "total_cost = price + tax"
   ]
  },
  {
   "cell_type": "code",
   "execution_count": 25,
   "id": "f8a0c4c1",
   "metadata": {},
   "outputs": [],
   "source": [
    "total_cost = price + int(tax)"
   ]
  },
  {
   "cell_type": "code",
   "execution_count": 26,
   "id": "bc495d41",
   "metadata": {},
   "outputs": [
    {
     "name": "stdout",
     "output_type": "stream",
     "text": [
      "118\n",
      "<class 'int'>\n"
     ]
    }
   ],
   "source": [
    "print(total_cost)\n",
    "print(type(total_cost))"
   ]
  },
  {
   "cell_type": "code",
   "execution_count": null,
   "id": "b1d56643",
   "metadata": {},
   "outputs": [],
   "source": []
  },
  {
   "cell_type": "markdown",
   "id": "d9ddb886",
   "metadata": {},
   "source": [
    "### Type casting"
   ]
  },
  {
   "cell_type": "code",
   "execution_count": 27,
   "id": "8d62846f",
   "metadata": {},
   "outputs": [
    {
     "name": "stdout",
     "output_type": "stream",
     "text": [
      "1000\n"
     ]
    }
   ],
   "source": [
    "income = 1000.45\n",
    "print(int(income))"
   ]
  },
  {
   "cell_type": "code",
   "execution_count": 28,
   "id": "be86a965",
   "metadata": {},
   "outputs": [
    {
     "name": "stdout",
     "output_type": "stream",
     "text": [
      "25.0\n"
     ]
    }
   ],
   "source": [
    "age = 25\n",
    "print(float(age))"
   ]
  },
  {
   "cell_type": "code",
   "execution_count": 29,
   "id": "77094b03",
   "metadata": {},
   "outputs": [
    {
     "data": {
      "text/plain": [
       "'34.6'"
      ]
     },
     "execution_count": 29,
     "metadata": {},
     "output_type": "execute_result"
    }
   ],
   "source": [
    "price = 34.6\n",
    "str(price)"
   ]
  },
  {
   "cell_type": "code",
   "execution_count": 30,
   "id": "1d24ed7d",
   "metadata": {},
   "outputs": [
    {
     "name": "stdout",
     "output_type": "stream",
     "text": [
      "False\n",
      "True\n"
     ]
    }
   ],
   "source": [
    "x, y = 0, 10\n",
    "print(bool(x))\n",
    "print(bool(y))"
   ]
  },
  {
   "cell_type": "markdown",
   "id": "bccf7dbc",
   "metadata": {},
   "source": [
    "### print() in python"
   ]
  },
  {
   "cell_type": "code",
   "execution_count": 31,
   "id": "052ba006",
   "metadata": {},
   "outputs": [
    {
     "name": "stdout",
     "output_type": "stream",
     "text": [
      "Hello World\n"
     ]
    }
   ],
   "source": [
    "print(\"Hello World\")"
   ]
  },
  {
   "cell_type": "code",
   "execution_count": 32,
   "id": "9b4ca8fa",
   "metadata": {},
   "outputs": [
    {
     "name": "stdout",
     "output_type": "stream",
     "text": [
      "Hello how are you?\n"
     ]
    }
   ],
   "source": [
    "print(\"Hello\", \"how are you?\")"
   ]
  },
  {
   "cell_type": "code",
   "execution_count": 33,
   "id": "e45d5709",
   "metadata": {},
   "outputs": [
    {
     "name": "stdout",
     "output_type": "stream",
     "text": [
      "('avocado', 'apple', 'cherry')\n"
     ]
    }
   ],
   "source": [
    "fruits = (\"avocado\", 'apple', 'cherry')\n",
    "print(fruits)"
   ]
  },
  {
   "cell_type": "code",
   "execution_count": 34,
   "id": "fbb763f3",
   "metadata": {},
   "outputs": [
    {
     "name": "stdout",
     "output_type": "stream",
     "text": [
      "Hello ^^^ how are you?\n"
     ]
    }
   ],
   "source": [
    "print(\"Hello\", \"how are you?\", sep = \" ^^^ \")"
   ]
  },
  {
   "cell_type": "markdown",
   "id": "de3e9cc7",
   "metadata": {},
   "source": [
    "The sep is an optional parameter. When output is printed, each word is separated by ^^^ characters"
   ]
  },
  {
   "cell_type": "code",
   "execution_count": 35,
   "id": "0dd43e85",
   "metadata": {},
   "outputs": [
    {
     "name": "stdout",
     "output_type": "stream",
     "text": [
      "Hello World\n",
      "\n",
      "\n",
      "Hello how are you?\n"
     ]
    }
   ],
   "source": [
    "print(\"Hello World\")\n",
    "print(\"\\n\")\n",
    "print(\"Hello\", \"how are you?\")"
   ]
  },
  {
   "cell_type": "markdown",
   "id": "684cd99f",
   "metadata": {},
   "source": [
    "print(‘\\n’) gives a new blank line\n",
    "\n",
    "The backslash “\\” is known as escape character. It is used in representing certain whitespaces.\n",
    "\n",
    "For example ‘\\t’ is a tab and ‘\\n’ is a new line."
   ]
  },
  {
   "cell_type": "markdown",
   "id": "92f15405",
   "metadata": {},
   "source": [
    "**Invalid use of opening and closing quotes**"
   ]
  },
  {
   "cell_type": "code",
   "execution_count": 36,
   "id": "92cad8ff",
   "metadata": {},
   "outputs": [
    {
     "ename": "SyntaxError",
     "evalue": "EOL while scanning string literal (945614662.py, line 1)",
     "output_type": "error",
     "traceback": [
      "\u001b[1;36m  File \u001b[1;32m\"C:\\Users\\Ved\\AppData\\Local\\Temp\\ipykernel_16184\\945614662.py\"\u001b[1;36m, line \u001b[1;32m1\u001b[0m\n\u001b[1;33m    print('Welcome, Lets learn python\")\u001b[0m\n\u001b[1;37m                                       ^\u001b[0m\n\u001b[1;31mSyntaxError\u001b[0m\u001b[1;31m:\u001b[0m EOL while scanning string literal\n"
     ]
    }
   ],
   "source": [
    "print('Welcome, Lets learn python\")"
   ]
  },
  {
   "cell_type": "markdown",
   "id": "9be7e20b",
   "metadata": {},
   "source": [
    "**Print with concatenation**"
   ]
  },
  {
   "cell_type": "code",
   "execution_count": 37,
   "id": "db7537ae",
   "metadata": {},
   "outputs": [
    {
     "name": "stdout",
     "output_type": "stream",
     "text": [
      "WelcomeTo the world of python\n"
     ]
    }
   ],
   "source": [
    "print(\"Welcome\" + \"To the world of python\")"
   ]
  },
  {
   "cell_type": "markdown",
   "id": "5aecfeca",
   "metadata": {},
   "source": [
    "**You cannot concatenate string & number**"
   ]
  },
  {
   "cell_type": "code",
   "execution_count": 38,
   "id": "9ab8c76c",
   "metadata": {},
   "outputs": [
    {
     "ename": "TypeError",
     "evalue": "can only concatenate str (not \"int\") to str",
     "output_type": "error",
     "traceback": [
      "\u001b[1;31m---------------------------------------------------------------------------\u001b[0m",
      "\u001b[1;31mTypeError\u001b[0m                                 Traceback (most recent call last)",
      "\u001b[1;32m~\\AppData\\Local\\Temp\\ipykernel_16184\\297173279.py\u001b[0m in \u001b[0;36m<module>\u001b[1;34m\u001b[0m\n\u001b[1;32m----> 1\u001b[1;33m \u001b[0mprint\u001b[0m\u001b[1;33m(\u001b[0m\u001b[1;34m\"Your age is \"\u001b[0m \u001b[1;33m+\u001b[0m \u001b[1;36m34\u001b[0m\u001b[1;33m)\u001b[0m\u001b[1;33m\u001b[0m\u001b[1;33m\u001b[0m\u001b[0m\n\u001b[0m",
      "\u001b[1;31mTypeError\u001b[0m: can only concatenate str (not \"int\") to str"
     ]
    }
   ],
   "source": [
    "print(\"Your age is \" + 34)"
   ]
  },
  {
   "cell_type": "markdown",
   "id": "ea07c1c6",
   "metadata": {},
   "source": [
    "That’s wrong because adding numbers to strings doesn’t make any sense. You need to explicitly convert the number to string first, in order to join them together."
   ]
  },
  {
   "cell_type": "code",
   "execution_count": 39,
   "id": "eab8e10d",
   "metadata": {},
   "outputs": [
    {
     "name": "stdout",
     "output_type": "stream",
     "text": [
      "Your age is 34\n"
     ]
    }
   ],
   "source": [
    "print(\"Your age is \" + str(34))"
   ]
  },
  {
   "cell_type": "markdown",
   "id": "5bb0610e",
   "metadata": {},
   "source": [
    "Explicit conversion of a number to string with str() function."
   ]
  },
  {
   "cell_type": "markdown",
   "id": "3162279f-b71d-4a58-872d-a2f7704e8143",
   "metadata": {},
   "source": [
    "# operators"
   ]
  },
  {
   "cell_type": "markdown",
   "id": "9734ec7a",
   "metadata": {},
   "source": [
    "# Arithmetic operators\n",
    "\n",
    "1. Addition\n",
    "1. Subtraction\n",
    "1. Multiplication\n",
    "1. Division\n",
    "1. Modulus\n",
    "1. Square"
   ]
  },
  {
   "cell_type": "markdown",
   "id": "8afab1e5",
   "metadata": {},
   "source": [
    "### Addition"
   ]
  },
  {
   "cell_type": "code",
   "execution_count": 41,
   "id": "493a4c95",
   "metadata": {},
   "outputs": [
    {
     "name": "stdout",
     "output_type": "stream",
     "text": [
      "Mike Anderson\n"
     ]
    }
   ],
   "source": [
    "# Adding two Strings\n",
    "first_name = \"Mike\"\n",
    "second_name = \"Anderson\"\n",
    "\n",
    "full_name = first_name + \" \" + second_name\n",
    "print(full_name)"
   ]
  },
  {
   "cell_type": "code",
   "execution_count": 43,
   "id": "3fca1a65",
   "metadata": {},
   "outputs": [
    {
     "name": "stdout",
     "output_type": "stream",
     "text": [
      "Age is 22\n"
     ]
    }
   ],
   "source": [
    "text = \"Age is \"\n",
    "age = \"22\"\n",
    "\n",
    "combine = text + age\n",
    "print(combine)"
   ]
  },
  {
   "cell_type": "code",
   "execution_count": null,
   "id": "1430bae3",
   "metadata": {},
   "outputs": [],
   "source": []
  },
  {
   "cell_type": "markdown",
   "id": "0c03de53",
   "metadata": {},
   "source": [
    "### Subtraction"
   ]
  },
  {
   "cell_type": "code",
   "execution_count": 44,
   "id": "596b4986",
   "metadata": {},
   "outputs": [
    {
     "name": "stdout",
     "output_type": "stream",
     "text": [
      "85\n"
     ]
    }
   ],
   "source": [
    "# Subtraction two integer variable\n",
    "price = 120\n",
    "discount = 35\n",
    "\n",
    "net_price = price - discount\n",
    "print(net_price)"
   ]
  },
  {
   "cell_type": "code",
   "execution_count": 45,
   "id": "559a0fd9",
   "metadata": {},
   "outputs": [
    {
     "name": "stdout",
     "output_type": "stream",
     "text": [
      "89.5\n"
     ]
    }
   ],
   "source": [
    "# Subtracting one integer and one float variable\n",
    "price = 125\n",
    "discount = 35.5\n",
    "\n",
    "net_price = price - discount\n",
    "print(net_price)"
   ]
  },
  {
   "cell_type": "code",
   "execution_count": 46,
   "id": "2670f4e4",
   "metadata": {},
   "outputs": [
    {
     "ename": "TypeError",
     "evalue": "unsupported operand type(s) for -: 'str' and 'str'",
     "output_type": "error",
     "traceback": [
      "\u001b[1;31m---------------------------------------------------------------------------\u001b[0m",
      "\u001b[1;31mTypeError\u001b[0m                                 Traceback (most recent call last)",
      "\u001b[1;32m~\\AppData\\Local\\Temp\\ipykernel_16184\\1001263040.py\u001b[0m in \u001b[0;36m<module>\u001b[1;34m\u001b[0m\n\u001b[0;32m      3\u001b[0m \u001b[0msecond_name\u001b[0m \u001b[1;33m=\u001b[0m \u001b[1;34m\"Anderson\"\u001b[0m\u001b[1;33m\u001b[0m\u001b[1;33m\u001b[0m\u001b[0m\n\u001b[0;32m      4\u001b[0m \u001b[1;33m\u001b[0m\u001b[0m\n\u001b[1;32m----> 5\u001b[1;33m \u001b[0mfull_name\u001b[0m \u001b[1;33m=\u001b[0m \u001b[0mfirst_name\u001b[0m \u001b[1;33m-\u001b[0m \u001b[0msecond_name\u001b[0m\u001b[1;33m\u001b[0m\u001b[1;33m\u001b[0m\u001b[0m\n\u001b[0m\u001b[0;32m      6\u001b[0m \u001b[0mprint\u001b[0m\u001b[1;33m(\u001b[0m\u001b[0mfull_name\u001b[0m\u001b[1;33m)\u001b[0m\u001b[1;33m\u001b[0m\u001b[1;33m\u001b[0m\u001b[0m\n",
      "\u001b[1;31mTypeError\u001b[0m: unsupported operand type(s) for -: 'str' and 'str'"
     ]
    }
   ],
   "source": [
    "# Subtracting two Strings\n",
    "first_name = \"Mike\"\n",
    "second_name = \"Anderson\"\n",
    "\n",
    "full_name = first_name - second_name\n",
    "print(full_name)"
   ]
  },
  {
   "cell_type": "markdown",
   "id": "e051cfc2",
   "metadata": {},
   "source": [
    "When two strings are added, the operator basically concatenates the two strings. \n",
    "Subtracting two strings does not make any sense."
   ]
  },
  {
   "cell_type": "code",
   "execution_count": null,
   "id": "799e901c",
   "metadata": {},
   "outputs": [],
   "source": []
  },
  {
   "cell_type": "markdown",
   "id": "cca2d340",
   "metadata": {},
   "source": [
    "### Multiplication"
   ]
  },
  {
   "cell_type": "code",
   "execution_count": 47,
   "id": "917ed731",
   "metadata": {},
   "outputs": [
    {
     "name": "stdout",
     "output_type": "stream",
     "text": [
      "1800\n"
     ]
    }
   ],
   "source": [
    "# Multiplication of 2 integer variables\n",
    "price = 120\n",
    "quantity = 15\n",
    "\n",
    "total_cost = price * quantity\n",
    "print(total_cost)"
   ]
  },
  {
   "cell_type": "code",
   "execution_count": 48,
   "id": "16719f2c",
   "metadata": {},
   "outputs": [
    {
     "name": "stdout",
     "output_type": "stream",
     "text": [
      "IndiaIndiaIndia\n"
     ]
    }
   ],
   "source": [
    "# Multiplication of string with integer variables\n",
    "value = \"India\"\n",
    "count = 3\n",
    "\n",
    "result = value * count\n",
    "print(result)"
   ]
  },
  {
   "cell_type": "code",
   "execution_count": 49,
   "id": "74074c88",
   "metadata": {},
   "outputs": [
    {
     "ename": "TypeError",
     "evalue": "can't multiply sequence by non-int of type 'str'",
     "output_type": "error",
     "traceback": [
      "\u001b[1;31m---------------------------------------------------------------------------\u001b[0m",
      "\u001b[1;31mTypeError\u001b[0m                                 Traceback (most recent call last)",
      "\u001b[1;32m~\\AppData\\Local\\Temp\\ipykernel_16184\\1558703177.py\u001b[0m in \u001b[0;36m<module>\u001b[1;34m\u001b[0m\n\u001b[0;32m      3\u001b[0m \u001b[0mcount\u001b[0m \u001b[1;33m=\u001b[0m \u001b[1;34m\"3\"\u001b[0m\u001b[1;33m\u001b[0m\u001b[1;33m\u001b[0m\u001b[0m\n\u001b[0;32m      4\u001b[0m \u001b[1;33m\u001b[0m\u001b[0m\n\u001b[1;32m----> 5\u001b[1;33m \u001b[0mresult\u001b[0m \u001b[1;33m=\u001b[0m \u001b[0mvalue\u001b[0m \u001b[1;33m*\u001b[0m \u001b[0mcount\u001b[0m\u001b[1;33m\u001b[0m\u001b[1;33m\u001b[0m\u001b[0m\n\u001b[0m\u001b[0;32m      6\u001b[0m \u001b[0mprint\u001b[0m\u001b[1;33m(\u001b[0m\u001b[0mresult\u001b[0m\u001b[1;33m)\u001b[0m\u001b[1;33m\u001b[0m\u001b[1;33m\u001b[0m\u001b[0m\n",
      "\u001b[1;31mTypeError\u001b[0m: can't multiply sequence by non-int of type 'str'"
     ]
    }
   ],
   "source": [
    "# Multiplication of 2 string variables\n",
    "value = \"Boat\"\n",
    "count = \"3\"\n",
    "\n",
    "result = value * count\n",
    "print(result)"
   ]
  },
  {
   "cell_type": "code",
   "execution_count": null,
   "id": "575803c3",
   "metadata": {},
   "outputs": [],
   "source": []
  },
  {
   "cell_type": "markdown",
   "id": "18e3e893",
   "metadata": {},
   "source": [
    "### Division"
   ]
  },
  {
   "cell_type": "code",
   "execution_count": 50,
   "id": "4b268201",
   "metadata": {},
   "outputs": [
    {
     "name": "stdout",
     "output_type": "stream",
     "text": [
      "20.0\n"
     ]
    }
   ],
   "source": [
    "# Division using 2 integer variables\n",
    "total_cost = 2000\n",
    "quantity = 100\n",
    "\n",
    "price_pre_unit = total_cost / quantity\n",
    "print(price_pre_unit)"
   ]
  },
  {
   "cell_type": "code",
   "execution_count": 51,
   "id": "72645f45",
   "metadata": {},
   "outputs": [
    {
     "name": "stdout",
     "output_type": "stream",
     "text": [
      "15.6075\n"
     ]
    }
   ],
   "source": [
    "# Division using one integer and one folat variables\n",
    "total_cost = 1560.75\n",
    "quantity = 100\n",
    "\n",
    "price_pre_unit = total_cost / quantity\n",
    "print(price_pre_unit)"
   ]
  },
  {
   "cell_type": "code",
   "execution_count": 52,
   "id": "66743056",
   "metadata": {},
   "outputs": [
    {
     "ename": "TypeError",
     "evalue": "unsupported operand type(s) for /: 'str' and 'int'",
     "output_type": "error",
     "traceback": [
      "\u001b[1;31m---------------------------------------------------------------------------\u001b[0m",
      "\u001b[1;31mTypeError\u001b[0m                                 Traceback (most recent call last)",
      "\u001b[1;32m~\\AppData\\Local\\Temp\\ipykernel_16184\\3886996593.py\u001b[0m in \u001b[0;36m<module>\u001b[1;34m\u001b[0m\n\u001b[0;32m      3\u001b[0m \u001b[0mvalue\u001b[0m \u001b[1;33m=\u001b[0m \u001b[1;36m3\u001b[0m\u001b[1;33m\u001b[0m\u001b[1;33m\u001b[0m\u001b[0m\n\u001b[0;32m      4\u001b[0m \u001b[1;33m\u001b[0m\u001b[0m\n\u001b[1;32m----> 5\u001b[1;33m \u001b[0mresult\u001b[0m \u001b[1;33m=\u001b[0m \u001b[0mservice\u001b[0m \u001b[1;33m/\u001b[0m \u001b[0mvalue\u001b[0m\u001b[1;33m\u001b[0m\u001b[1;33m\u001b[0m\u001b[0m\n\u001b[0m\u001b[0;32m      6\u001b[0m \u001b[0mprint\u001b[0m\u001b[1;33m(\u001b[0m\u001b[0mresult\u001b[0m\u001b[1;33m)\u001b[0m\u001b[1;33m\u001b[0m\u001b[1;33m\u001b[0m\u001b[0m\n",
      "\u001b[1;31mTypeError\u001b[0m: unsupported operand type(s) for /: 'str' and 'int'"
     ]
    }
   ],
   "source": [
    "# cannot divide a string by a number\n",
    "service = \"Airlines\"\n",
    "value = 3\n",
    "\n",
    "result = service / value\n",
    "print(result)"
   ]
  },
  {
   "cell_type": "code",
   "execution_count": null,
   "id": "e46ed033",
   "metadata": {},
   "outputs": [],
   "source": []
  },
  {
   "cell_type": "markdown",
   "id": "9f739bfd",
   "metadata": {},
   "source": [
    "### Floor Division"
   ]
  },
  {
   "cell_type": "code",
   "execution_count": 53,
   "id": "2f6acb5d",
   "metadata": {},
   "outputs": [
    {
     "name": "stdout",
     "output_type": "stream",
     "text": [
      "565\n"
     ]
    }
   ],
   "source": [
    "# division operation to get quotient\n",
    "total_cost = 13000\n",
    "quantity = 23\n",
    "\n",
    "price_pre_unit = total_cost // quantity\n",
    "print(price_pre_unit)"
   ]
  },
  {
   "cell_type": "code",
   "execution_count": 54,
   "id": "e77ec06a",
   "metadata": {},
   "outputs": [
    {
     "name": "stdout",
     "output_type": "stream",
     "text": [
      "565.0\n"
     ]
    }
   ],
   "source": [
    "# division operation to get quotient\n",
    "total_cost = 13000.50\n",
    "quantity = 23\n",
    "\n",
    "price_pre_unit = total_cost // quantity\n",
    "print(price_pre_unit)"
   ]
  },
  {
   "cell_type": "code",
   "execution_count": null,
   "id": "5e4199eb",
   "metadata": {},
   "outputs": [],
   "source": []
  },
  {
   "cell_type": "markdown",
   "id": "a1a6389b",
   "metadata": {},
   "source": [
    "### Modulus"
   ]
  },
  {
   "cell_type": "code",
   "execution_count": 55,
   "id": "1676f687",
   "metadata": {},
   "outputs": [
    {
     "name": "stdout",
     "output_type": "stream",
     "text": [
      "9\n"
     ]
    }
   ],
   "source": [
    "# using modulus operator to find remainder\n",
    "total_cost = 2700\n",
    "quantity = 23\n",
    "\n",
    "price_pre_unit = total_cost % quantity\n",
    "print(price_pre_unit)"
   ]
  },
  {
   "cell_type": "code",
   "execution_count": 56,
   "id": "6cdc91d0",
   "metadata": {},
   "outputs": [
    {
     "name": "stdout",
     "output_type": "stream",
     "text": [
      "9.5\n"
     ]
    }
   ],
   "source": [
    "# using modulus operator to find remainder\n",
    "total_cost = 2700.50\n",
    "quantity = 23\n",
    "\n",
    "price_pre_unit = total_cost % quantity\n",
    "print(price_pre_unit)"
   ]
  },
  {
   "cell_type": "code",
   "execution_count": null,
   "id": "a548fb47",
   "metadata": {},
   "outputs": [],
   "source": []
  },
  {
   "cell_type": "markdown",
   "id": "6c8e3598",
   "metadata": {},
   "source": [
    "### Get square & power output"
   ]
  },
  {
   "cell_type": "code",
   "execution_count": 57,
   "id": "f1c8202c",
   "metadata": {},
   "outputs": [
    {
     "name": "stdout",
     "output_type": "stream",
     "text": [
      "400\n"
     ]
    }
   ],
   "source": [
    "# squaring varibales\n",
    "width_of_sqaure = 20\n",
    "\n",
    "area = width_of_sqaure ** 2\n",
    "print(area)"
   ]
  },
  {
   "cell_type": "code",
   "execution_count": 58,
   "id": "992a723b",
   "metadata": {},
   "outputs": [
    {
     "name": "stdout",
     "output_type": "stream",
     "text": [
      "8\n"
     ]
    }
   ],
   "source": [
    "value = 2\n",
    "n = 3\n",
    "\n",
    "# value raised to n\n",
    "result = value ** n\n",
    "print(result)"
   ]
  },
  {
   "cell_type": "code",
   "execution_count": null,
   "id": "e8c9dd1f",
   "metadata": {},
   "outputs": [],
   "source": []
  },
  {
   "cell_type": "markdown",
   "id": "b7c9b46e",
   "metadata": {},
   "source": [
    "# Relational operators\n",
    "\n",
    "Relational operators are used to compare 2 values and take certain decisions based on the outcome (outcome is is a boolean value).\n",
    "\n",
    "1. is less than\n",
    "1. is less than & equal to\n",
    "1. is greater than\n",
    "1. is greater than & equal to\n",
    "1. is equal to\n",
    "1. is not equal to"
   ]
  },
  {
   "cell_type": "code",
   "execution_count": 59,
   "id": "3545a227",
   "metadata": {},
   "outputs": [],
   "source": [
    "mona_age = 35\n",
    "john_age = 25"
   ]
  },
  {
   "cell_type": "code",
   "execution_count": 60,
   "id": "eacc2634",
   "metadata": {},
   "outputs": [
    {
     "data": {
      "text/plain": [
       "True"
      ]
     },
     "execution_count": 60,
     "metadata": {},
     "output_type": "execute_result"
    }
   ],
   "source": [
    "mona_age > john_age"
   ]
  },
  {
   "cell_type": "code",
   "execution_count": 61,
   "id": "6737a3b2",
   "metadata": {},
   "outputs": [
    {
     "data": {
      "text/plain": [
       "False"
      ]
     },
     "execution_count": 61,
     "metadata": {},
     "output_type": "execute_result"
    }
   ],
   "source": [
    "mona_age < john_age"
   ]
  },
  {
   "cell_type": "code",
   "execution_count": 62,
   "id": "a6a718ab",
   "metadata": {},
   "outputs": [
    {
     "data": {
      "text/plain": [
       "False"
      ]
     },
     "execution_count": 62,
     "metadata": {},
     "output_type": "execute_result"
    }
   ],
   "source": [
    "mona_age == john_age"
   ]
  },
  {
   "cell_type": "code",
   "execution_count": 63,
   "id": "1c818c2c",
   "metadata": {},
   "outputs": [
    {
     "data": {
      "text/plain": [
       "True"
      ]
     },
     "execution_count": 63,
     "metadata": {},
     "output_type": "execute_result"
    }
   ],
   "source": [
    "mona_age >= john_age"
   ]
  },
  {
   "cell_type": "code",
   "execution_count": 64,
   "id": "fd337d21",
   "metadata": {},
   "outputs": [
    {
     "data": {
      "text/plain": [
       "False"
      ]
     },
     "execution_count": 64,
     "metadata": {},
     "output_type": "execute_result"
    }
   ],
   "source": [
    "mona_age <= john_age"
   ]
  },
  {
   "cell_type": "code",
   "execution_count": 65,
   "id": "e4c005c8",
   "metadata": {},
   "outputs": [
    {
     "data": {
      "text/plain": [
       "True"
      ]
     },
     "execution_count": 65,
     "metadata": {},
     "output_type": "execute_result"
    }
   ],
   "source": [
    "mona_age != john_age"
   ]
  },
  {
   "cell_type": "code",
   "execution_count": null,
   "id": "c75c3fd3",
   "metadata": {},
   "outputs": [],
   "source": []
  },
  {
   "cell_type": "markdown",
   "id": "8d5285a0",
   "metadata": {},
   "source": [
    "# Logical operators\n",
    "\n",
    "Logical operators in Python are used for conditional statements are either True or False\n",
    "\n",
    "1. **AND:** Returns True if both the operands are True\n",
    "1. **OR:** Returns True if either of the operands are True"
   ]
  },
  {
   "cell_type": "code",
   "execution_count": 66,
   "id": "a27816b1",
   "metadata": {},
   "outputs": [],
   "source": [
    "x = True\n",
    "y = False"
   ]
  },
  {
   "cell_type": "code",
   "execution_count": 67,
   "id": "e7eefd9d",
   "metadata": {},
   "outputs": [
    {
     "data": {
      "text/plain": [
       "False"
      ]
     },
     "execution_count": 67,
     "metadata": {},
     "output_type": "execute_result"
    }
   ],
   "source": [
    "x and y"
   ]
  },
  {
   "cell_type": "code",
   "execution_count": 68,
   "id": "1bf19a22",
   "metadata": {},
   "outputs": [
    {
     "data": {
      "text/plain": [
       "True"
      ]
     },
     "execution_count": 68,
     "metadata": {},
     "output_type": "execute_result"
    }
   ],
   "source": [
    "x or y"
   ]
  },
  {
   "cell_type": "code",
   "execution_count": null,
   "id": "3f768bbb",
   "metadata": {},
   "outputs": [],
   "source": []
  },
  {
   "cell_type": "markdown",
   "id": "e58e6a4d",
   "metadata": {},
   "source": [
    "# Membership operators\n",
    "\n",
    "Membership operators tests whether a value is a member of a sequence. The sequence may be a list, a string, a tuple, or a dictionary."
   ]
  },
  {
   "cell_type": "markdown",
   "id": "e30dbd15",
   "metadata": {},
   "source": [
    "The ‘in’ operator is used to check if a value exists in any sequence object or not"
   ]
  },
  {
   "cell_type": "code",
   "execution_count": 69,
   "id": "5dab8a10",
   "metadata": {},
   "outputs": [
    {
     "data": {
      "text/plain": [
       "True"
      ]
     },
     "execution_count": 69,
     "metadata": {},
     "output_type": "execute_result"
    }
   ],
   "source": [
    "2 in [4, 5, 7, 2]"
   ]
  },
  {
   "cell_type": "markdown",
   "id": "e5984092",
   "metadata": {},
   "source": [
    "This evaluates to True if it finds a value in the specified sequence object. Otherwise it returns a False."
   ]
  },
  {
   "cell_type": "code",
   "execution_count": 70,
   "id": "6ba856ba",
   "metadata": {},
   "outputs": [
    {
     "data": {
      "text/plain": [
       "True"
      ]
     },
     "execution_count": 70,
     "metadata": {},
     "output_type": "execute_result"
    }
   ],
   "source": [
    "9 not in [4, 5, 7, 2]"
   ]
  },
  {
   "cell_type": "markdown",
   "id": "8ff2df63",
   "metadata": {},
   "source": [
    "A ‘not in’ works in an opposite way to an ‘in’ operator. A ‘not in’ evaluates to True if a value is not found in the specified sequence object. Else it returns a False"
   ]
  },
  {
   "cell_type": "code",
   "execution_count": null,
   "id": "a00aefae",
   "metadata": {},
   "outputs": [],
   "source": []
  },
  {
   "cell_type": "markdown",
   "id": "8eff3cb2",
   "metadata": {},
   "source": [
    "# More assignment operators\n",
    "\n",
    "The assignment operators are used to store data into a variable.\n",
    "\n",
    "1. a += b is same as a = a + b\n",
    "1. a *= b is same as a = a * b\n",
    "1. a /= b is same as a = a / b\n",
    "1. a %= b is same as a = a % b\n",
    "1. a //= b is same as a = a // b\n",
    "2. a == b is same as a = b\n",
    "3. a **= b is same as a = a ** b"
   ]
  },
  {
   "cell_type": "code",
   "execution_count": null,
   "id": "3a2461a2-3ecd-4daf-ae6b-aa9fd9413dee",
   "metadata": {},
   "outputs": [],
   "source": [
    "a=32\n",
    "b=6"
   ]
  },
  {
   "cell_type": "code",
   "execution_count": 10,
   "id": "2b94c872-ca11-4931-8fa2-ccca4388f196",
   "metadata": {},
   "outputs": [
    {
     "data": {
      "text/plain": [
       "False"
      ]
     },
     "execution_count": 10,
     "metadata": {},
     "output_type": "execute_result"
    }
   ],
   "source": [
    "a==b"
   ]
  },
  {
   "cell_type": "code",
   "execution_count": 12,
   "id": "5392a038-b09a-43b7-a30d-ba91c2bbb5cb",
   "metadata": {},
   "outputs": [
    {
     "data": {
      "text/plain": [
       "180"
      ]
     },
     "execution_count": 12,
     "metadata": {},
     "output_type": "execute_result"
    }
   ],
   "source": [
    "a*=b\n",
    "a"
   ]
  },
  {
   "cell_type": "code",
   "execution_count": 13,
   "id": "d2aba589-eef1-4fb2-9f1c-a123216ae7fb",
   "metadata": {},
   "outputs": [
    {
     "data": {
      "text/plain": [
       "30.0"
      ]
     },
     "execution_count": 13,
     "metadata": {},
     "output_type": "execute_result"
    }
   ],
   "source": [
    "a/=b\n",
    "a"
   ]
  },
  {
   "cell_type": "code",
   "execution_count": 14,
   "id": "5c4e01c1-7ef4-4318-b18e-4277a4d80c7a",
   "metadata": {},
   "outputs": [
    {
     "data": {
      "text/plain": [
       "0.0"
      ]
     },
     "execution_count": 14,
     "metadata": {},
     "output_type": "execute_result"
    }
   ],
   "source": [
    "a%=b\n",
    "a"
   ]
  },
  {
   "cell_type": "code",
   "execution_count": 15,
   "id": "70a50a01-5c72-44a3-b161-17e8c1df10c4",
   "metadata": {},
   "outputs": [
    {
     "data": {
      "text/plain": [
       "0.0"
      ]
     },
     "execution_count": 15,
     "metadata": {},
     "output_type": "execute_result"
    }
   ],
   "source": [
    "a//=b\n",
    "a"
   ]
  },
  {
   "cell_type": "code",
   "execution_count": 16,
   "id": "863e2122-8d42-4eeb-8200-f4980eaeb11d",
   "metadata": {},
   "outputs": [
    {
     "data": {
      "text/plain": [
       "6.0"
      ]
     },
     "execution_count": 16,
     "metadata": {},
     "output_type": "execute_result"
    }
   ],
   "source": [
    "a+=b\n",
    "a"
   ]
  },
  {
   "cell_type": "code",
   "execution_count": 17,
   "id": "1a228985-7ee1-4aec-a63f-432b342a51f1",
   "metadata": {},
   "outputs": [
    {
     "data": {
      "text/plain": [
       "46656.0"
      ]
     },
     "execution_count": 17,
     "metadata": {},
     "output_type": "execute_result"
    }
   ],
   "source": [
    "a**=b\n",
    "a"
   ]
  },
  {
   "cell_type": "markdown",
   "id": "2361b762-50b1-4475-895e-29378a2812ba",
   "metadata": {},
   "source": [
    "# identity operator\n",
    "### is \n",
    "### is not"
   ]
  },
  {
   "cell_type": "code",
   "execution_count": 1,
   "id": "845869c8-7cd5-44d4-a43c-d2cbcc1a2295",
   "metadata": {},
   "outputs": [
    {
     "data": {
      "text/plain": [
       "140727394341960"
      ]
     },
     "execution_count": 1,
     "metadata": {},
     "output_type": "execute_result"
    }
   ],
   "source": [
    "a=10\n",
    "id(a)"
   ]
  },
  {
   "cell_type": "code",
   "execution_count": 2,
   "id": "a9721157-79c6-473c-8f4f-361d93d717ab",
   "metadata": {},
   "outputs": [
    {
     "data": {
      "text/plain": [
       "140727394342280"
      ]
     },
     "execution_count": 2,
     "metadata": {},
     "output_type": "execute_result"
    }
   ],
   "source": [
    "b=20\n",
    "id(b)"
   ]
  },
  {
   "cell_type": "code",
   "execution_count": 3,
   "id": "1290a8c8-2bf4-49c3-a47c-121b6dfecbbc",
   "metadata": {},
   "outputs": [
    {
     "data": {
      "text/plain": [
       "False"
      ]
     },
     "execution_count": 3,
     "metadata": {},
     "output_type": "execute_result"
    }
   ],
   "source": [
    "a is b"
   ]
  },
  {
   "cell_type": "code",
   "execution_count": 4,
   "id": "2c85cccf-6ed9-4450-8ea8-da6dbe7cf241",
   "metadata": {},
   "outputs": [
    {
     "data": {
      "text/plain": [
       "True"
      ]
     },
     "execution_count": 4,
     "metadata": {},
     "output_type": "execute_result"
    }
   ],
   "source": [
    "a is not b"
   ]
  },
  {
   "cell_type": "code",
   "execution_count": 7,
   "id": "7ef806e5-1442-4316-a472-57dcc3179094",
   "metadata": {},
   "outputs": [
    {
     "data": {
      "text/plain": [
       "140727394341800"
      ]
     },
     "execution_count": 7,
     "metadata": {},
     "output_type": "execute_result"
    }
   ],
   "source": [
    "A=5\n",
    "B=5\n",
    "id(A)"
   ]
  },
  {
   "cell_type": "code",
   "execution_count": 8,
   "id": "1b4d6801-56fd-48ef-8105-cb0324a19eff",
   "metadata": {},
   "outputs": [
    {
     "data": {
      "text/plain": [
       "140727394341800"
      ]
     },
     "execution_count": 8,
     "metadata": {},
     "output_type": "execute_result"
    }
   ],
   "source": [
    "id(B)"
   ]
  },
  {
   "cell_type": "code",
   "execution_count": 10,
   "id": "9a8df593-ffa1-46e0-ba98-15b9a701ad83",
   "metadata": {},
   "outputs": [
    {
     "data": {
      "text/plain": [
       "True"
      ]
     },
     "execution_count": 10,
     "metadata": {},
     "output_type": "execute_result"
    }
   ],
   "source": [
    "A is B"
   ]
  },
  {
   "cell_type": "code",
   "execution_count": 12,
   "id": "79a8e30b-8800-4182-a578-bdab526cb07d",
   "metadata": {},
   "outputs": [
    {
     "data": {
      "text/plain": [
       "False"
      ]
     },
     "execution_count": 12,
     "metadata": {},
     "output_type": "execute_result"
    }
   ],
   "source": [
    "x=5.9\n",
    "y=5.9\n",
    "x is y"
   ]
  },
  {
   "cell_type": "code",
   "execution_count": 13,
   "id": "66a9de79-3fd5-4953-97b3-dc78b1e35008",
   "metadata": {},
   "outputs": [
    {
     "data": {
      "text/plain": [
       "1952682498960"
      ]
     },
     "execution_count": 13,
     "metadata": {},
     "output_type": "execute_result"
    }
   ],
   "source": [
    "id(x)"
   ]
  },
  {
   "cell_type": "code",
   "execution_count": 14,
   "id": "40cc18e8-0494-412a-b418-c13e1a8e99bc",
   "metadata": {},
   "outputs": [
    {
     "data": {
      "text/plain": [
       "1952682508176"
      ]
     },
     "execution_count": 14,
     "metadata": {},
     "output_type": "execute_result"
    }
   ],
   "source": [
    "id(y)"
   ]
  },
  {
   "cell_type": "markdown",
   "id": "b8aa4b6b-7f6c-4529-852d-b1440bab6fae",
   "metadata": {},
   "source": [
    "# Bitwise opertor"
   ]
  },
  {
   "cell_type": "code",
   "execution_count": 1,
   "id": "b00e2378-7056-43a9-8f4b-09541e054842",
   "metadata": {},
   "outputs": [],
   "source": [
    "a=5\n",
    "b=6"
   ]
  },
  {
   "cell_type": "code",
   "execution_count": 2,
   "id": "b04daf78-03a9-4f1a-82ee-bb56f8de5323",
   "metadata": {},
   "outputs": [
    {
     "data": {
      "text/plain": [
       "4"
      ]
     },
     "execution_count": 2,
     "metadata": {},
     "output_type": "execute_result"
    }
   ],
   "source": [
    "a&b"
   ]
  },
  {
   "cell_type": "code",
   "execution_count": 3,
   "id": "367817b5-8d7a-4256-9357-93887f1fc35b",
   "metadata": {},
   "outputs": [
    {
     "data": {
      "text/plain": [
       "7"
      ]
     },
     "execution_count": 3,
     "metadata": {},
     "output_type": "execute_result"
    }
   ],
   "source": [
    "a|b"
   ]
  },
  {
   "cell_type": "code",
   "execution_count": 4,
   "id": "0ab6e83e-09b2-43a6-9c02-eadf8ae2a6e3",
   "metadata": {},
   "outputs": [
    {
     "data": {
      "text/plain": [
       "3"
      ]
     },
     "execution_count": 4,
     "metadata": {},
     "output_type": "execute_result"
    }
   ],
   "source": [
    "a^b"
   ]
  },
  {
   "cell_type": "code",
   "execution_count": 5,
   "id": "aa0d6e2c-8305-4526-bf06-fd9058d7b01e",
   "metadata": {},
   "outputs": [
    {
     "data": {
      "text/plain": [
       "-6"
      ]
     },
     "execution_count": 5,
     "metadata": {},
     "output_type": "execute_result"
    }
   ],
   "source": [
    "~a"
   ]
  },
  {
   "cell_type": "code",
   "execution_count": 6,
   "id": "d5277686-86a8-44f5-82e7-7d28fcdaa247",
   "metadata": {},
   "outputs": [
    {
     "data": {
      "text/plain": [
       "-7"
      ]
     },
     "execution_count": 6,
     "metadata": {},
     "output_type": "execute_result"
    }
   ],
   "source": [
    "~b"
   ]
  },
  {
   "cell_type": "code",
   "execution_count": 7,
   "id": "0e77888d-8f3a-470c-851e-233c7c8fd787",
   "metadata": {},
   "outputs": [
    {
     "data": {
      "text/plain": [
       "320"
      ]
     },
     "execution_count": 7,
     "metadata": {},
     "output_type": "execute_result"
    }
   ],
   "source": [
    "a<<b"
   ]
  },
  {
   "cell_type": "code",
   "execution_count": 8,
   "id": "46c053b3-fe11-4e5e-a8a8-2a0c5220db6c",
   "metadata": {},
   "outputs": [
    {
     "data": {
      "text/plain": [
       "0"
      ]
     },
     "execution_count": 8,
     "metadata": {},
     "output_type": "execute_result"
    }
   ],
   "source": [
    "a>>b"
   ]
  },
  {
   "cell_type": "code",
   "execution_count": null,
   "id": "f8fd7051-2457-4530-b500-86dd65f15f9c",
   "metadata": {},
   "outputs": [],
   "source": []
  }
 ],
 "metadata": {
  "kernelspec": {
   "display_name": "Python 3 (ipykernel)",
   "language": "python",
   "name": "python3"
  },
  "language_info": {
   "codemirror_mode": {
    "name": "ipython",
    "version": 3
   },
   "file_extension": ".py",
   "mimetype": "text/x-python",
   "name": "python",
   "nbconvert_exporter": "python",
   "pygments_lexer": "ipython3",
   "version": "3.11.5"
  },
  "widgets": {
   "application/vnd.jupyter.widget-state+json": {
    "state": {},
    "version_major": 2,
    "version_minor": 0
   }
  }
 },
 "nbformat": 4,
 "nbformat_minor": 5
}
